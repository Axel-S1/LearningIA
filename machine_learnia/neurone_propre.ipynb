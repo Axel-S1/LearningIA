{
 "cells": [
  {
   "cell_type": "code",
   "execution_count": 1,
   "metadata": {},
   "outputs": [],
   "source": [
    "import numpy as np\n",
    "import matplotlib.pyplot as plt\n",
    "from tqdm import tqdm"
   ]
  },
  {
   "cell_type": "code",
   "execution_count": 2,
   "metadata": {},
   "outputs": [],
   "source": [
    "#Fonction :\n",
    "def initialisation(X):\n",
    "    W = np.random.randn(X.shape[1], 1)\n",
    "    b = np.random.randn(1)\n",
    "    return (W, b)\n",
    "\n",
    "def model(X, W, b):\n",
    "    Z = X.dot(W) + b\n",
    "    A = 1 / (1 + np.exp(-Z))\n",
    "    return A\n",
    "\n",
    "def gradients(A, X, y):\n",
    "    dW = 1 / len(y) * np.dot(X.T, A - y)\n",
    "    db = 1 / len(y) * np.sum(A - y)\n",
    "    return (dW, db)\n",
    "\n",
    "def update(dW, db, W, b, learning_rate):\n",
    "    W = W - learning_rate * dW\n",
    "    b = b - learning_rate * db\n",
    "    return (W, b)\n",
    "\n",
    "def predict(X, W, b):\n",
    "    A = model(X, W, b)\n",
    "    return A >= 0.5\n",
    "\n",
    "def normalisedAndReshape(set):    \n",
    "    return set.reshape(set.shape[0], -1)/set.max()\n",
    "\n",
    "def affichage_comparaison_train_test(train, test):\n",
    "    plt.figure(figsize=(16, 9))\n",
    "    plt.subplot(2, 1, 1)\n",
    "    plt.plot(train[0], label='train loss')\n",
    "    plt.plot(test[0], label='test loss')\n",
    "    plt.legend()\n",
    "    plt.subplot(2, 1, 2)\n",
    "    plt.plot(train[1], label='train acc')\n",
    "    plt.plot(test[1], label='test acc')\n",
    "    plt.legend()\n",
    "    plt.show()\n",
    "\n",
    "from sklearn.metrics import accuracy_score, log_loss\n",
    "from utilities import load_data"
   ]
  },
  {
   "cell_type": "code",
   "execution_count": 3,
   "metadata": {},
   "outputs": [],
   "source": [
    "#Fonction principale de train avec comparaison du test\n",
    "def artificial_neuron(X_train, y_train, X_test, y_test, learning_rate, n_iter, nb_affichage = 100):\n",
    "    # Initialisation des variables : --------------------------------------------------------------\n",
    "    train_loss_acc = ([],[])\n",
    "    test_loss_acc = ([],[])\n",
    "    \n",
    "    # gestion de l'affichage : --------------------------------------------------------------------\n",
    "    if n_iter <= nb_affichage:\n",
    "        x_sample = 1\n",
    "    else:\n",
    "        x_sample = int((n_iter/nb_affichage))\n",
    "    \n",
    "    \n",
    "    # Initialisation du trainning : ---------------------------------------------------------------\n",
    "    \n",
    "    W, b = initialisation(X_train) # initialisation des poids du modèle et du biais\n",
    "\n",
    "    \n",
    "    # Aprendtissage : -----------------------------------------------------------------------------\n",
    "    for i in tqdm(range(n_iter)):\n",
    "        A = model(X_train, W, b)\n",
    "        \n",
    "        if i % x_sample == 0 :\n",
    "            # Train\n",
    "            y_pred = predict(X_train, W, b)\n",
    "            print(A.shape)\n",
    "            train_loss_acc[0].append(log_loss(y_train, A))\n",
    "            train_loss_acc[1].append(accuracy_score(y_train, y_pred))\n",
    "\n",
    "            # Test\n",
    "            A_test = model(X_test, W, b)\n",
    "            y_pred = predict(X_test, W, b)\n",
    "            test_loss_acc[0].append(log_loss(y_test, A_test))\n",
    "            test_loss_acc[1].append(accuracy_score(y_test, y_pred))\n",
    "        \n",
    "        # Calcul gradients et Update des poids :\n",
    "        dW, db = gradients(A, X_train, y_train)\n",
    "        W, b = update(dW, db, W, b, learning_rate)\n",
    "\n",
    "    # Affichage des résultats : -------------------------------------------------------------------\n",
    "    affichage_comparaison_train_test(train_loss_acc, test_loss_acc)\n",
    "    \n",
    "    return (W, b)"
   ]
  },
  {
   "cell_type": "code",
   "execution_count": 4,
   "metadata": {},
   "outputs": [],
   "source": [
    "#Récupération des données :\n",
    "X_train, y_train, X_test, y_test = load_data()\n",
    "\n",
    "# Normalisation et flatten des données :\n",
    "normFlat_X_train = normalisedAndReshape(X_train)\n",
    "normFlat_X_test = normalisedAndReshape(X_test)"
   ]
  },
  {
   "cell_type": "code",
   "execution_count": 5,
   "metadata": {},
   "outputs": [
    {
     "name": "stderr",
     "output_type": "stream",
     "text": [
      "  2%|▏         | 17/1000 [00:00<00:05, 169.85it/s]"
     ]
    },
    {
     "name": "stdout",
     "output_type": "stream",
     "text": [
      "(1000, 1)\n",
      "(1000, 1)\n",
      "(1000, 1)\n",
      "(1000, 1)\n",
      "(1000, 1)\n",
      "(1000, 1)\n",
      "(1000, 1)\n",
      "(1000, 1)\n",
      "(1000, 1)\n",
      "(1000, 1)\n",
      "(1000, 1)\n",
      "(1000, 1)\n",
      "(1000, 1)\n",
      "(1000, 1)\n",
      "(1000, 1)\n",
      "(1000, 1)\n",
      "(1000, 1)\n",
      "(1000, 1)\n",
      "(1000, 1)\n",
      "(1000, 1)\n"
     ]
    },
    {
     "name": "stderr",
     "output_type": "stream",
     "text": [
      "  6%|▌         | 61/1000 [00:00<00:04, 201.72it/s]"
     ]
    },
    {
     "name": "stdout",
     "output_type": "stream",
     "text": [
      "(1000, 1)\n",
      "(1000, 1)\n",
      "(1000, 1)\n",
      "(1000, 1)\n",
      "(1000, 1)\n",
      "(1000, 1)\n",
      "(1000, 1)\n",
      "(1000, 1)\n",
      "(1000, 1)\n",
      "(1000, 1)\n",
      "(1000, 1)\n",
      "(1000, 1)\n",
      "(1000, 1)\n",
      "(1000, 1)\n",
      "(1000, 1)\n",
      "(1000, 1)\n",
      "(1000, 1)\n",
      "(1000, 1)\n",
      "(1000, 1)\n",
      "(1000, 1)\n",
      "(1000, 1)\n",
      "(1000, 1)\n"
     ]
    },
    {
     "name": "stderr",
     "output_type": "stream",
     "text": [
      " 11%|█         | 106/1000 [00:00<00:04, 205.14it/s]"
     ]
    },
    {
     "name": "stdout",
     "output_type": "stream",
     "text": [
      "(1000, 1)\n",
      "(1000, 1)\n",
      "(1000, 1)\n",
      "(1000, 1)\n",
      "(1000, 1)\n",
      "(1000, 1)\n",
      "(1000, 1)\n",
      "(1000, 1)\n",
      "(1000, 1)\n",
      "(1000, 1)\n",
      "(1000, 1)\n",
      "(1000, 1)\n",
      "(1000, 1)\n",
      "(1000, 1)\n",
      "(1000, 1)\n",
      "(1000, 1)\n",
      "(1000, 1)\n",
      "(1000, 1)\n",
      "(1000, 1)\n",
      "(1000, 1)\n",
      "(1000, 1)\n"
     ]
    },
    {
     "name": "stderr",
     "output_type": "stream",
     "text": [
      " 15%|█▍        | 148/1000 [00:00<00:04, 198.27it/s]"
     ]
    },
    {
     "name": "stdout",
     "output_type": "stream",
     "text": [
      "(1000, 1)\n",
      "(1000, 1)\n",
      "(1000, 1)\n",
      "(1000, 1)\n",
      "(1000, 1)\n",
      "(1000, 1)\n",
      "(1000, 1)\n",
      "(1000, 1)\n",
      "(1000, 1)\n",
      "(1000, 1)\n",
      "(1000, 1)\n",
      "(1000, 1)\n",
      "(1000, 1)\n",
      "(1000, 1)\n",
      "(1000, 1)\n",
      "(1000, 1)\n",
      "(1000, 1)\n",
      "(1000, 1)\n",
      "(1000, 1)\n",
      "(1000, 1)\n"
     ]
    },
    {
     "name": "stderr",
     "output_type": "stream",
     "text": [
      " 19%|█▉        | 188/1000 [00:00<00:04, 194.72it/s]"
     ]
    },
    {
     "name": "stdout",
     "output_type": "stream",
     "text": [
      "(1000, 1)\n",
      "(1000, 1)\n",
      "(1000, 1)\n",
      "(1000, 1)\n",
      "(1000, 1)\n",
      "(1000, 1)\n",
      "(1000, 1)\n",
      "(1000, 1)\n",
      "(1000, 1)\n",
      "(1000, 1)\n",
      "(1000, 1)\n",
      "(1000, 1)\n",
      "(1000, 1)\n",
      "(1000, 1)\n",
      "(1000, 1)\n",
      "(1000, 1)\n",
      "(1000, 1)\n",
      "(1000, 1)\n",
      "(1000, 1)\n",
      "(1000, 1)\n",
      "(1000, 1)\n"
     ]
    },
    {
     "name": "stderr",
     "output_type": "stream",
     "text": [
      " 23%|██▎       | 228/1000 [00:01<00:03, 193.60it/s]"
     ]
    },
    {
     "name": "stdout",
     "output_type": "stream",
     "text": [
      "(1000, 1)\n",
      "(1000, 1)\n",
      "(1000, 1)\n",
      "(1000, 1)\n",
      "(1000, 1)\n",
      "(1000, 1)\n",
      "(1000, 1)\n",
      "(1000, 1)\n",
      "(1000, 1)\n",
      "(1000, 1)\n",
      "(1000, 1)\n",
      "(1000, 1)\n",
      "(1000, 1)\n",
      "(1000, 1)\n",
      "(1000, 1)\n",
      "(1000, 1)\n",
      "(1000, 1)\n",
      "(1000, 1)\n",
      "(1000, 1)\n",
      "(1000, 1)\n",
      "(1000, 1)\n"
     ]
    },
    {
     "name": "stderr",
     "output_type": "stream",
     "text": [
      " 29%|██▉       | 291/1000 [00:01<00:03, 201.65it/s]"
     ]
    },
    {
     "name": "stdout",
     "output_type": "stream",
     "text": [
      "(1000, 1)\n",
      "(1000, 1)\n",
      "(1000, 1)\n",
      "(1000, 1)\n",
      "(1000, 1)\n",
      "(1000, 1)\n",
      "(1000, 1)\n",
      "(1000, 1)\n",
      "(1000, 1)\n",
      "(1000, 1)\n",
      "(1000, 1)\n",
      "(1000, 1)\n",
      "(1000, 1)\n",
      "(1000, 1)\n",
      "(1000, 1)\n",
      "(1000, 1)\n",
      "(1000, 1)\n",
      "(1000, 1)\n",
      "(1000, 1)\n",
      "(1000, 1)\n",
      "(1000, 1)\n"
     ]
    },
    {
     "name": "stderr",
     "output_type": "stream",
     "text": [
      " 34%|███▎      | 335/1000 [00:01<00:03, 209.30it/s]"
     ]
    },
    {
     "name": "stdout",
     "output_type": "stream",
     "text": [
      "(1000, 1)\n",
      "(1000, 1)\n",
      "(1000, 1)\n",
      "(1000, 1)\n",
      "(1000, 1)\n",
      "(1000, 1)\n",
      "(1000, 1)\n",
      "(1000, 1)\n",
      "(1000, 1)\n",
      "(1000, 1)\n",
      "(1000, 1)\n",
      "(1000, 1)\n",
      "(1000, 1)\n",
      "(1000, 1)\n",
      "(1000, 1)\n",
      "(1000, 1)\n",
      "(1000, 1)\n",
      "(1000, 1)\n",
      "(1000, 1)\n",
      "(1000, 1)\n",
      "(1000, 1)\n",
      "(1000, 1)\n"
     ]
    },
    {
     "name": "stderr",
     "output_type": "stream",
     "text": [
      " 36%|███▌      | 357/1000 [00:01<00:03, 209.91it/s]"
     ]
    },
    {
     "name": "stdout",
     "output_type": "stream",
     "text": [
      "(1000, 1)\n",
      "(1000, 1)\n",
      "(1000, 1)\n",
      "(1000, 1)\n",
      "(1000, 1)\n",
      "(1000, 1)\n",
      "(1000, 1)\n",
      "(1000, 1)\n",
      "(1000, 1)\n",
      "(1000, 1)\n",
      "(1000, 1)\n",
      "(1000, 1)\n",
      "(1000, 1)\n",
      "(1000, 1)\n",
      "(1000, 1)\n",
      "(1000, 1)\n",
      "(1000, 1)\n",
      "(1000, 1)\n",
      "(1000, 1)\n",
      "(1000, 1)\n",
      "(1000, 1)\n"
     ]
    },
    {
     "name": "stderr",
     "output_type": "stream",
     "text": [
      " 40%|████      | 401/1000 [00:01<00:02, 213.00it/s]"
     ]
    },
    {
     "name": "stdout",
     "output_type": "stream",
     "text": [
      "(1000, 1)\n",
      "(1000, 1)\n",
      "(1000, 1)\n",
      "(1000, 1)\n",
      "(1000, 1)\n",
      "(1000, 1)\n",
      "(1000, 1)\n",
      "(1000, 1)\n",
      "(1000, 1)\n",
      "(1000, 1)\n",
      "(1000, 1)\n",
      "(1000, 1)\n",
      "(1000, 1)\n",
      "(1000, 1)\n",
      "(1000, 1)\n",
      "(1000, 1)\n",
      "(1000, 1)\n",
      "(1000, 1)\n",
      "(1000, 1)\n",
      "(1000, 1)\n",
      "(1000, 1)\n",
      "(1000, 1)\n",
      "(1000, 1)\n"
     ]
    },
    {
     "name": "stderr",
     "output_type": "stream",
     "text": [
      " 44%|████▍     | 445/1000 [00:02<00:02, 208.99it/s]"
     ]
    },
    {
     "name": "stdout",
     "output_type": "stream",
     "text": [
      "(1000, 1)\n",
      "(1000, 1)\n",
      "(1000, 1)\n",
      "(1000, 1)\n",
      "(1000, 1)\n",
      "(1000, 1)\n",
      "(1000, 1)\n",
      "(1000, 1)\n",
      "(1000, 1)\n",
      "(1000, 1)\n",
      "(1000, 1)\n",
      "(1000, 1)\n",
      "(1000, 1)\n",
      "(1000, 1)\n",
      "(1000, 1)\n",
      "(1000, 1)\n",
      "(1000, 1)\n",
      "(1000, 1)\n",
      "(1000, 1)\n",
      "(1000, 1)\n",
      "(1000, 1)\n",
      "(1000, 1)\n"
     ]
    },
    {
     "name": "stderr",
     "output_type": "stream",
     "text": [
      " 51%|█████▏    | 513/1000 [00:02<00:02, 217.05it/s]"
     ]
    },
    {
     "name": "stdout",
     "output_type": "stream",
     "text": [
      "(1000, 1)\n",
      "(1000, 1)\n",
      "(1000, 1)\n",
      "(1000, 1)\n",
      "(1000, 1)\n",
      "(1000, 1)\n",
      "(1000, 1)\n",
      "(1000, 1)\n",
      "(1000, 1)\n",
      "(1000, 1)\n",
      "(1000, 1)\n",
      "(1000, 1)\n",
      "(1000, 1)\n",
      "(1000, 1)\n",
      "(1000, 1)\n",
      "(1000, 1)\n",
      "(1000, 1)\n",
      "(1000, 1)\n",
      "(1000, 1)\n",
      "(1000, 1)\n",
      "(1000, 1)\n",
      "(1000, 1)\n",
      "(1000, 1)\n"
     ]
    },
    {
     "name": "stderr",
     "output_type": "stream",
     "text": [
      " 54%|█████▎    | 535/1000 [00:02<00:02, 204.08it/s]"
     ]
    },
    {
     "name": "stdout",
     "output_type": "stream",
     "text": [
      "(1000, 1)\n",
      "(1000, 1)\n",
      "(1000, 1)\n",
      "(1000, 1)\n",
      "(1000, 1)\n",
      "(1000, 1)\n",
      "(1000, 1)\n",
      "(1000, 1)\n",
      "(1000, 1)\n",
      "(1000, 1)\n",
      "(1000, 1)\n",
      "(1000, 1)\n",
      "(1000, 1)\n",
      "(1000, 1)\n",
      "(1000, 1)\n",
      "(1000, 1)\n",
      "(1000, 1)\n",
      "(1000, 1)\n",
      "(1000, 1)\n"
     ]
    },
    {
     "name": "stderr",
     "output_type": "stream",
     "text": [
      " 58%|█████▊    | 577/1000 [00:02<00:02, 190.65it/s]"
     ]
    },
    {
     "name": "stdout",
     "output_type": "stream",
     "text": [
      "(1000, 1)\n",
      "(1000, 1)\n",
      "(1000, 1)\n",
      "(1000, 1)\n",
      "(1000, 1)\n",
      "(1000, 1)\n",
      "(1000, 1)\n",
      "(1000, 1)\n",
      "(1000, 1)\n",
      "(1000, 1)\n",
      "(1000, 1)\n",
      "(1000, 1)\n",
      "(1000, 1)\n",
      "(1000, 1)\n",
      "(1000, 1)\n",
      "(1000, 1)\n",
      "(1000, 1)\n",
      "(1000, 1)\n"
     ]
    },
    {
     "name": "stderr",
     "output_type": "stream",
     "text": [
      " 62%|██████▏   | 616/1000 [00:03<00:02, 180.96it/s]"
     ]
    },
    {
     "name": "stdout",
     "output_type": "stream",
     "text": [
      "(1000, 1)\n",
      "(1000, 1)\n",
      "(1000, 1)\n",
      "(1000, 1)\n",
      "(1000, 1)\n",
      "(1000, 1)\n",
      "(1000, 1)\n",
      "(1000, 1)\n",
      "(1000, 1)\n",
      "(1000, 1)\n",
      "(1000, 1)\n",
      "(1000, 1)\n",
      "(1000, 1)\n",
      "(1000, 1)\n",
      "(1000, 1)\n",
      "(1000, 1)\n",
      "(1000, 1)\n",
      "(1000, 1)\n",
      "(1000, 1)\n"
     ]
    },
    {
     "name": "stderr",
     "output_type": "stream",
     "text": [
      " 66%|██████▌   | 655/1000 [00:03<00:01, 179.26it/s]"
     ]
    },
    {
     "name": "stdout",
     "output_type": "stream",
     "text": [
      "(1000, 1)\n",
      "(1000, 1)\n",
      "(1000, 1)\n",
      "(1000, 1)\n",
      "(1000, 1)\n",
      "(1000, 1)\n",
      "(1000, 1)\n",
      "(1000, 1)\n",
      "(1000, 1)\n",
      "(1000, 1)\n",
      "(1000, 1)\n",
      "(1000, 1)\n",
      "(1000, 1)\n",
      "(1000, 1)\n",
      "(1000, 1)\n",
      "(1000, 1)\n",
      "(1000, 1)\n",
      "(1000, 1)\n",
      "(1000, 1)\n",
      "(1000, 1)\n"
     ]
    },
    {
     "name": "stderr",
     "output_type": "stream",
     "text": [
      " 70%|██████▉   | 697/1000 [00:03<00:01, 191.21it/s]"
     ]
    },
    {
     "name": "stdout",
     "output_type": "stream",
     "text": [
      "(1000, 1)\n",
      "(1000, 1)\n",
      "(1000, 1)\n",
      "(1000, 1)\n",
      "(1000, 1)\n",
      "(1000, 1)\n",
      "(1000, 1)\n",
      "(1000, 1)\n",
      "(1000, 1)\n",
      "(1000, 1)\n",
      "(1000, 1)\n",
      "(1000, 1)\n",
      "(1000, 1)\n",
      "(1000, 1)\n",
      "(1000, 1)\n",
      "(1000, 1)\n",
      "(1000, 1)\n",
      "(1000, 1)\n",
      "(1000, 1)\n",
      "(1000, 1)\n",
      "(1000, 1)\n",
      "(1000, 1)\n"
     ]
    },
    {
     "name": "stderr",
     "output_type": "stream",
     "text": [
      " 72%|███████▏  | 723/1000 [00:03<00:01, 198.54it/s]\n"
     ]
    },
    {
     "name": "stdout",
     "output_type": "stream",
     "text": [
      "(1000, 1)\n",
      "(1000, 1)\n",
      "(1000, 1)\n",
      "(1000, 1)\n",
      "(1000, 1)\n",
      "(1000, 1)\n",
      "(1000, 1)\n"
     ]
    },
    {
     "ename": "KeyboardInterrupt",
     "evalue": "",
     "output_type": "error",
     "traceback": [
      "\u001b[1;31m---------------------------------------------------------------------------\u001b[0m",
      "\u001b[1;31mKeyboardInterrupt\u001b[0m                         Traceback (most recent call last)",
      "Cell \u001b[1;32mIn[5], line 2\u001b[0m\n\u001b[0;32m      1\u001b[0m \u001b[38;5;66;03m# lancement de l'apprentissage\u001b[39;00m\n\u001b[1;32m----> 2\u001b[0m W, b \u001b[38;5;241m=\u001b[39m \u001b[43martificial_neuron\u001b[49m\u001b[43m(\u001b[49m\u001b[43mnormFlat_X_train\u001b[49m\u001b[43m,\u001b[49m\u001b[43m \u001b[49m\u001b[43my_train\u001b[49m\u001b[43m,\u001b[49m\u001b[43m \u001b[49m\u001b[43mnormFlat_X_test\u001b[49m\u001b[43m,\u001b[49m\u001b[43m \u001b[49m\u001b[43my_test\u001b[49m\u001b[43m,\u001b[49m\u001b[43m \u001b[49m\u001b[43mlearning_rate\u001b[49m\u001b[43m \u001b[49m\u001b[38;5;241;43m=\u001b[39;49m\u001b[43m \u001b[49m\u001b[38;5;241;43m0.01\u001b[39;49m\u001b[43m,\u001b[49m\u001b[43m \u001b[49m\u001b[43mn_iter\u001b[49m\u001b[38;5;241;43m=\u001b[39;49m\u001b[38;5;241;43m1000\u001b[39;49m\u001b[43m,\u001b[49m\u001b[43m \u001b[49m\u001b[43mnb_affichage\u001b[49m\u001b[38;5;241;43m=\u001b[39;49m\u001b[38;5;241;43m500\u001b[39;49m\u001b[43m)\u001b[49m\n",
      "Cell \u001b[1;32mIn[3], line 37\u001b[0m, in \u001b[0;36martificial_neuron\u001b[1;34m(X_train, y_train, X_test, y_test, learning_rate, n_iter, nb_affichage)\u001b[0m\n\u001b[0;32m     34\u001b[0m         test_loss_acc[\u001b[38;5;241m1\u001b[39m]\u001b[38;5;241m.\u001b[39mappend(accuracy_score(y_test, y_pred))\n\u001b[0;32m     36\u001b[0m     \u001b[38;5;66;03m# Calcul gradients et Update des poids :\u001b[39;00m\n\u001b[1;32m---> 37\u001b[0m     dW, db \u001b[38;5;241m=\u001b[39m \u001b[43mgradients\u001b[49m\u001b[43m(\u001b[49m\u001b[43mA\u001b[49m\u001b[43m,\u001b[49m\u001b[43m \u001b[49m\u001b[43mX_train\u001b[49m\u001b[43m,\u001b[49m\u001b[43m \u001b[49m\u001b[43my_train\u001b[49m\u001b[43m)\u001b[49m\n\u001b[0;32m     38\u001b[0m     W, b \u001b[38;5;241m=\u001b[39m update(dW, db, W, b, learning_rate)\n\u001b[0;32m     40\u001b[0m \u001b[38;5;66;03m# Affichage des résultats : -------------------------------------------------------------------\u001b[39;00m\n",
      "Cell \u001b[1;32mIn[2], line 13\u001b[0m, in \u001b[0;36mgradients\u001b[1;34m(A, X, y)\u001b[0m\n\u001b[0;32m     12\u001b[0m \u001b[38;5;28;01mdef\u001b[39;00m \u001b[38;5;21mgradients\u001b[39m(A, X, y):\n\u001b[1;32m---> 13\u001b[0m     dW \u001b[38;5;241m=\u001b[39m \u001b[38;5;241m1\u001b[39m \u001b[38;5;241m/\u001b[39m \u001b[38;5;28mlen\u001b[39m(y) \u001b[38;5;241m*\u001b[39m \u001b[43mnp\u001b[49m\u001b[38;5;241;43m.\u001b[39;49m\u001b[43mdot\u001b[49m\u001b[43m(\u001b[49m\u001b[43mX\u001b[49m\u001b[38;5;241;43m.\u001b[39;49m\u001b[43mT\u001b[49m\u001b[43m,\u001b[49m\u001b[43m \u001b[49m\u001b[43mA\u001b[49m\u001b[43m \u001b[49m\u001b[38;5;241;43m-\u001b[39;49m\u001b[43m \u001b[49m\u001b[43my\u001b[49m\u001b[43m)\u001b[49m\n\u001b[0;32m     14\u001b[0m     db \u001b[38;5;241m=\u001b[39m \u001b[38;5;241m1\u001b[39m \u001b[38;5;241m/\u001b[39m \u001b[38;5;28mlen\u001b[39m(y) \u001b[38;5;241m*\u001b[39m np\u001b[38;5;241m.\u001b[39msum(A \u001b[38;5;241m-\u001b[39m y)\n\u001b[0;32m     15\u001b[0m     \u001b[38;5;28;01mreturn\u001b[39;00m (dW, db)\n",
      "\u001b[1;31mKeyboardInterrupt\u001b[0m: "
     ]
    }
   ],
   "source": [
    "# lancement de l'apprentissage\n",
    "W, b = artificial_neuron(normFlat_X_train, y_train, normFlat_X_test, y_test, learning_rate = 0.01, n_iter=1000, nb_affichage=500)"
   ]
  }
 ],
 "metadata": {
  "kernelspec": {
   "display_name": "Python 3",
   "language": "python",
   "name": "python3"
  },
  "language_info": {
   "codemirror_mode": {
    "name": "ipython",
    "version": 3
   },
   "file_extension": ".py",
   "mimetype": "text/x-python",
   "name": "python",
   "nbconvert_exporter": "python",
   "pygments_lexer": "ipython3",
   "version": "3.11.4"
  }
 },
 "nbformat": 4,
 "nbformat_minor": 2
}
