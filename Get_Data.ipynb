{
 "cells": [
  {
   "cell_type": "code",
   "execution_count": 5,
   "metadata": {},
   "outputs": [],
   "source": [
    "import requests\n",
    "import csv\n",
    "import time"
   ]
  },
  {
   "cell_type": "code",
   "execution_count": 6,
   "metadata": {},
   "outputs": [],
   "source": [
    "def get_binance_data(symbol, interval, start_time, end_time=None):\n",
    "    url = \"https://api.binance.com/api/v3/klines\"\n",
    "    limit = 500  # Limite imposée par l'API Binance\n",
    "    data = []\n",
    "\n",
    "    print(\"\\n Collecte des données...\")\n",
    "    while True:\n",
    "        params = {\n",
    "            'symbol': symbol,\n",
    "            'interval': interval,\n",
    "            'limit': limit,\n",
    "            'startTime': start_time,\n",
    "            'endTime': end_time\n",
    "        }\n",
    "        response = requests.get(url, params=params)\n",
    "        new_data = response.json()\n",
    "        \n",
    "        if len(new_data) == 0:\n",
    "            break  # Sort de la boucle s'il n'y a plus de données à récupérer\n",
    "\n",
    "        data.extend(new_data)  # Ajoute les nouvelles données à la liste totale\n",
    "\n",
    "        # Récupère le dernier timestamp de l'appel actuel pour la prochaine itération\n",
    "        start_time = new_data[-1][0] + 1  # Incrémenter pour ne pas répéter le dernier point\n",
    "        \n",
    "        # Délai pour éviter de dépasser le taux limite de l'API (limite de 1200 requêtes par minute)\n",
    "        time.sleep(0.05)\n",
    "    return data\n",
    "\n",
    "def get_coef_data(data):\n",
    "    d_data = []\n",
    "    previous_row = []\n",
    "    for i, row in enumerate(data):\n",
    "        if i > 0:\n",
    "            d_data.append([row[0], \n",
    "                      float(row[1])/float(previous_row[1]),\n",
    "                      float(row[2])/float(previous_row[2]),\n",
    "                      float(row[3])/float(previous_row[3]),\n",
    "                      float(row[4])/float(previous_row[4]),\n",
    "                      row[5],\n",
    "                      row[6]\n",
    "                      ])\n",
    "        previous_row = row\n",
    "    return d_data\n",
    "        \n",
    "\n",
    "def save_to_csv(data, filename):\n",
    "    # Définir les noms des colonnes\n",
    "    headers = ['Open_time', 'Open', 'High', 'Low', 'Close', 'Volume', 'Close_time']\n",
    "\n",
    "    # Ouvrir ou créer le fichier CSV\n",
    "    with open(filename, mode='w', newline='') as file:\n",
    "        writer = csv.writer(file)\n",
    "        \n",
    "        # Écrire l'en-tête\n",
    "        writer.writerow(headers)\n",
    "        \n",
    "        # Écrire les lignes de données\n",
    "        for row in data:\n",
    "            row = row[:7]\n",
    "            # Convertir les timestamps en format lisible si besoin\n",
    "            #row[0] = time.strftime('%Y-%m-%d %H:%M:%S', time.gmtime(row[0] / 1000))  # Ouverture\n",
    "            #row[6] = time.strftime('%Y-%m-%d %H:%M:%S', time.gmtime(row[6] / 1000))  # Fermeture\n",
    "            writer.writerow(row)"
   ]
  },
  {
   "cell_type": "code",
   "execution_count": 7,
   "metadata": {},
   "outputs": [
    {
     "name": "stdout",
     "output_type": "stream",
     "text": [
      "\n",
      " Collecte des données...\n",
      "Données sauvegardée(s) (.csv)\n"
     ]
    }
   ],
   "source": [
    "pair = 'ETHUSDT'\n",
    "interval = '15m'\n",
    "start = 0\n",
    "end = None\n",
    "\n",
    "\n",
    "data = get_binance_data(pair, interval, start, end)\n",
    "d_data = get_coef_data(data)\n",
    "\n",
    "save_to_csv(data, f\"binance_data_of_{pair}_{interval}_{start}_{end}.csv\")\n",
    "save_to_csv(d_data, f\"binance_coef_data_of_{pair}_{interval}_{start}_{end}.csv\")\n",
    "print(\"Données sauvegardée(s) (.csv)\")"
   ]
  }
 ],
 "metadata": {
  "kernelspec": {
   "display_name": "Python 3",
   "language": "python",
   "name": "python3"
  },
  "language_info": {
   "codemirror_mode": {
    "name": "ipython",
    "version": 3
   },
   "file_extension": ".py",
   "mimetype": "text/x-python",
   "name": "python",
   "nbconvert_exporter": "python",
   "pygments_lexer": "ipython3",
   "version": "3.11.4"
  }
 },
 "nbformat": 4,
 "nbformat_minor": 2
}
